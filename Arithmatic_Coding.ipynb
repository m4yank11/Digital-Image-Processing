{
  "nbformat": 4,
  "nbformat_minor": 0,
  "metadata": {
    "colab": {
      "provenance": []
    },
    "kernelspec": {
      "name": "python3",
      "display_name": "Python 3"
    },
    "language_info": {
      "name": "python"
    }
  },
  "cells": [
    {
      "cell_type": "code",
      "execution_count": 2,
      "metadata": {
        "colab": {
          "base_uri": "https://localhost:8080/"
        },
        "id": "J3NrY6PSENqj",
        "outputId": "3f741161-ef1d-4f2a-fda8-c1c1899ab6ab"
      },
      "outputs": [
        {
          "output_type": "stream",
          "name": "stdout",
          "text": [
            "Encoded Value: 0.07574515440000001\n",
            "Decoded Message: arithmetic\n"
          ]
        }
      ],
      "source": [
        "def encode_arithmetic(symbol_set, freq_map, input_message):\n",
        "    # Compute cumulative probabilities\n",
        "    cum_prob = {}\n",
        "    total_count = sum(freq_map.values())\n",
        "    cum_sum = 0.0\n",
        "    for sym in symbol_set:\n",
        "        cum_prob[sym] = cum_sum\n",
        "        cum_sum += freq_map[sym] / total_count\n",
        "\n",
        "    # Initialize the range\n",
        "    lower_bound = 0.0\n",
        "    upper_bound = 1.0\n",
        "\n",
        "    # Update range for each symbol in the input message\n",
        "    for sym in input_message:\n",
        "        range_span = upper_bound - lower_bound\n",
        "        upper_bound = lower_bound + range_span * (cum_prob[sym] + freq_map[sym] / total_count)\n",
        "        lower_bound = lower_bound + range_span * cum_prob[sym]\n",
        "\n",
        "    return (lower_bound + upper_bound) / 2  # Final encoded value is within the last range\n",
        "\n",
        "def decode_arithmetic(symbol_set, freq_map, encoded_val, msg_len):\n",
        "    # Compute cumulative probabilities\n",
        "    cum_prob = {}\n",
        "    total_count = sum(freq_map.values())\n",
        "    cum_sum = 0.0\n",
        "    for sym in symbol_set:\n",
        "        cum_prob[sym] = cum_sum\n",
        "        cum_sum += freq_map[sym] / total_count\n",
        "\n",
        "    # Initialize the range\n",
        "    lower_bound = 0.0\n",
        "    upper_bound = 1.0\n",
        "\n",
        "    decoded_msg = []\n",
        "    for _ in range(msg_len):\n",
        "        range_span = upper_bound - lower_bound\n",
        "        scaled_value = (encoded_val - lower_bound) / range_span\n",
        "\n",
        "        # Determine the symbol that corresponds to the scaled value\n",
        "        for sym in symbol_set:\n",
        "            sym_low = cum_prob[sym]\n",
        "            sym_high = sym_low + freq_map[sym] / total_count\n",
        "            if sym_low <= scaled_value < sym_high:\n",
        "                decoded_msg.append(sym)\n",
        "                upper_bound = lower_bound + range_span * sym_high\n",
        "                lower_bound = lower_bound + range_span * sym_low\n",
        "                break\n",
        "\n",
        "    return ''.join(decoded_msg)\n",
        "\n",
        "# Example usage\n",
        "if __name__ == \"__main__\":\n",
        "    input_message = \"arithmetic\"\n",
        "    unique_symbols = sorted(set(input_message))\n",
        "    freq_map = {sym: input_message.count(sym) for sym in unique_symbols}\n",
        "\n",
        "    # Encode the message\n",
        "    encoded_val = encode_arithmetic(unique_symbols, freq_map, input_message)\n",
        "    print(f\"Encoded Value: {encoded_val}\")\n",
        "\n",
        "    # Decode the message\n",
        "    decoded_msg = decode_arithmetic(unique_symbols, freq_map, encoded_val, len(input_message))\n",
        "    print(f\"Decoded Message: {decoded_msg}\")\n"
      ]
    }
  ]
}
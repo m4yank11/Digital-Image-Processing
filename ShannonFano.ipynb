{
  "nbformat": 4,
  "nbformat_minor": 0,
  "metadata": {
    "colab": {
      "provenance": []
    },
    "kernelspec": {
      "name": "python3",
      "display_name": "Python 3"
    },
    "language_info": {
      "name": "python"
    }
  },
  "cells": [
    {
      "cell_type": "code",
      "execution_count": 2,
      "metadata": {
        "colab": {
          "base_uri": "https://localhost:8080/"
        },
        "id": "N5rTqTdyF14c",
        "outputId": "eede973b-fd79-4025-816a-edddd1081c7c"
      },
      "outputs": [
        {
          "output_type": "stream",
          "name": "stdout",
          "text": [
            "Original Message: mayankrajgupta\n",
            "Encoded Message: 0100000101000111000100100101010111100110111100\n",
            "Shannon-Fano Codes: {'a': '00', 'm': '0100', 'y': '0101', 'n': '011', 'k': '1000', 'r': '1001', 'j': '1010', 'g': '1011', 'u': '1100', 'p': '1101', 't': '111'}\n",
            "Decoded Message: mayankrajgupta\n"
          ]
        }
      ],
      "source": [
        "import heapq\n",
        "\n",
        "# Function to generate Shannon-Fano codes\n",
        "def generate_shannon_fano_codes(symbol_freqs, prefix=\"\"):\n",
        "    # Base case: Only one symbol left, return its code\n",
        "    if len(symbol_freqs) == 1:\n",
        "        return {symbol_freqs[0][0]: prefix}\n",
        "\n",
        "    # Sort symbols by frequency in descending order\n",
        "    symbol_freqs.sort(key=lambda x: x[1], reverse=True)\n",
        "\n",
        "    # Find the splitting index where the cumulative frequency is about half\n",
        "    cumulative_freq = sum(freq for _, freq in symbol_freqs)\n",
        "    partial_sum = 0\n",
        "    split_index = 0\n",
        "    for i, (sym, freq) in enumerate(symbol_freqs):\n",
        "        partial_sum += freq\n",
        "        if partial_sum >= cumulative_freq / 2:\n",
        "            split_index = i + 1\n",
        "            break\n",
        "\n",
        "    # Recursively generate codes for both halves\n",
        "    left_half_codes = generate_shannon_fano_codes(symbol_freqs[:split_index], prefix + \"0\")\n",
        "    right_half_codes = generate_shannon_fano_codes(symbol_freqs[split_index:], prefix + \"1\")\n",
        "\n",
        "    # Merge both halves\n",
        "    left_half_codes.update(right_half_codes)\n",
        "    return left_half_codes\n",
        "\n",
        "# Function to encode a message with Shannon-Fano codes\n",
        "def encode_with_shannon_fano(input_message):\n",
        "    # Calculate frequency of each character in the message\n",
        "    char_freq_map = {}\n",
        "    for ch in input_message:\n",
        "        if ch in char_freq_map:\n",
        "            char_freq_map[ch] += 1\n",
        "        else:\n",
        "            char_freq_map[ch] = 1\n",
        "\n",
        "    # Create symbol-frequency pairs\n",
        "    symbol_freqs = [(ch, freq) for ch, freq in char_freq_map.items()]\n",
        "\n",
        "    # Generate the Shannon-Fano codes\n",
        "    sf_codes = generate_shannon_fano_codes(symbol_freqs)\n",
        "\n",
        "    # Encode the message\n",
        "    encoded_msg = ''.join(sf_codes[ch] for ch in input_message)\n",
        "    return encoded_msg, sf_codes\n",
        "\n",
        "# Function to decode a Shannon-Fano encoded message\n",
        "def decode_shannon_fano(encoded_msg, sf_codes):\n",
        "    # Reverse the codes to map from code to character\n",
        "    code_to_char = {code: char for char, code in sf_codes.items()}\n",
        "\n",
        "    # Decode the message\n",
        "    decoded_msg = []\n",
        "    temp_buffer = \"\"\n",
        "    for bit in encoded_msg:\n",
        "        temp_buffer += bit\n",
        "        if temp_buffer in code_to_char:\n",
        "            decoded_msg.append(code_to_char[temp_buffer])\n",
        "            temp_buffer = \"\"\n",
        "\n",
        "    return ''.join(decoded_msg)\n",
        "\n",
        "# Example usage\n",
        "if __name__ == \"__main__\":\n",
        "    input_message = \"mayankrajgupta\"\n",
        "    encoded_msg, sf_codes = encode_with_shannon_fano(input_message)\n",
        "    print(f\"Original Message: {input_message}\")\n",
        "    print(f\"Encoded Message: {encoded_msg}\")\n",
        "    print(f\"Shannon-Fano Codes: {sf_codes}\")\n",
        "\n",
        "    decoded_msg = decode_shannon_fano(encoded_msg, sf_codes)\n",
        "    print(f\"Decoded Message: {decoded_msg}\")\n"
      ]
    }
  ]
}